{
 "metadata": {
  "name": "",
  "signature": "sha256:e8eb707ac36b7951fb29f9f638fe5ff460eb9aefc1120f27ab73e54b8837839c"
 },
 "nbformat": 3,
 "nbformat_minor": 0,
 "worksheets": [
  {
   "cells": [
    {
     "cell_type": "heading",
     "level": 1,
     "metadata": {},
     "source": [
      "TOONZ: A GLOBAL MUSIC RECOMMENDER"
     ]
    },
    {
     "cell_type": "markdown",
     "metadata": {},
     "source": [
      "<img src=\"files/pic.jpg\" width=\"1200\">"
     ]
    },
    {
     "cell_type": "heading",
     "level": 5,
     "metadata": {},
     "source": [
      "By Alex Lehman, Rachael Smith and Anna Zhong"
     ]
    },
    {
     "cell_type": "markdown",
     "metadata": {},
     "source": [
      "### Introduction\n",
      "\n",
      "For our project, we created a recommendation system for songs using collaborative filtering (CF). The approach we took was based on a neighborhood model of CF which relies on users past preferences and similarities between items to make future recommendations.\n",
      "\n",
      "In our application of CF, we used play counts (how often a user listens to certain songs) to build similarities between songs and to create a global recommender for a specific user. \n",
      "\n",
      "Note: Some of our code was adapted from skeleton code provided by Harvard University CS109 Staff\n",
      "\n",
      "\n"
     ]
    },
    {
     "cell_type": "code",
     "collapsed": true,
     "input": [
      "%matplotlib inline\n",
      "\n",
      "import json\n",
      "from collections import defaultdict\n",
      "\n",
      "import requests\n",
      "import pandas as pd\n",
      "import numpy as np\n",
      "import matplotlib.pyplot as plt\n",
      "from io import StringIO \n",
      "\n",
      "from matplotlib import rcParams\n",
      "import matplotlib.cm as cm\n",
      "import matplotlib as mpl\n",
      "\n",
      "from pyechonest import catalog\n",
      "from pyechonest import config\n",
      "from scipy.stats.stats import pearsonr\n",
      "from operator import itemgetter\n",
      "from pyechonest import song\n",
      "\n",
      "# for graphs that we will set up later\n",
      "def remove_border(axes=None, top=False, right=False, left=True, bottom=True):\n",
      "    \"\"\"\n",
      "    Minimize chartjunk by stripping out unnecesasry plot borders and axis ticks\n",
      "    \n",
      "    The top/right/left/bottom keywords toggle whether the corresponding plot border is drawn\n",
      "    \"\"\"\n",
      "    ax = axes or plt.gca()\n",
      "    ax.spines['top'].set_visible(top)\n",
      "    ax.spines['right'].set_visible(right)\n",
      "    ax.spines['left'].set_visible(left)\n",
      "    ax.spines['bottom'].set_visible(bottom)\n",
      "    \n",
      "    #turn off all ticks\n",
      "    ax.yaxis.set_ticks_position('none')\n",
      "    ax.xaxis.set_ticks_position('none')\n",
      "    \n",
      "    #now re-enable visibles\n",
      "    if top:\n",
      "        ax.xaxis.tick_top()\n",
      "    if bottom:\n",
      "        ax.xaxis.tick_bottom()\n",
      "    if left:\n",
      "        ax.yaxis.tick_left()\n",
      "    if right:\n",
      "        ax.yaxis.tick_right()\n",
      "        \n",
      "pd.set_option('display.width', 500)\n",
      "pd.set_option('display.max_columns', 30)"
     ],
     "language": "python",
     "metadata": {},
     "outputs": [],
     "prompt_number": 271
    },
    {
     "cell_type": "markdown",
     "metadata": {},
     "source": [
      "### Setup and Data Manipulation\n",
      "\n",
      "First, we set up an API key so that we can later access the song information using the ids provided from the Echonest Dataset."
     ]
    },
    {
     "cell_type": "code",
     "collapsed": true,
     "input": [
      "config.ECHO_NEST_API_KEY=\"MDFLN9ODBG0JYFFZI\""
     ],
     "language": "python",
     "metadata": {},
     "outputs": [],
     "prompt_number": 272
    },
    {
     "cell_type": "code",
     "collapsed": true,
     "input": [
      "API_key = \"MDFLN9ODBG0JYFFZI\"\n",
      "url = 'http://developer.echonest.com/api/v4/song/profile?api_key=MDFLN9ODBG0JYFFZI'"
     ],
     "language": "python",
     "metadata": {},
     "outputs": [],
     "prompt_number": 273
    },
    {
     "cell_type": "markdown",
     "metadata": {},
     "source": [
      "Next we import the Echonest Dataset by reading it from a CSV file into a pandas dataframe. The data set provides song information in triplets. Each triplet contains a user id, song id, and how many times that user listened to the specific song. This was our starting base for our system."
     ]
    },
    {
     "cell_type": "code",
     "collapsed": false,
     "input": [
      "#data = pd.read_csv(\"smallset.txt\", delimiter='\\t', names=['user_id', 'song_id', 'play_count'])\n",
      "#data.head(5)\n",
      "\n",
      "data = pd.read_csv(\"10users.txt\", delimiter='\\t', names=['user_id', 'song_id', 'play_count'])\n",
      "data.head(5)"
     ],
     "language": "python",
     "metadata": {},
     "outputs": [
      {
       "html": [
        "<div style=\"max-height:1000px;max-width:1500px;overflow:auto;\">\n",
        "<table border=\"1\" class=\"dataframe\">\n",
        "  <thead>\n",
        "    <tr style=\"text-align: right;\">\n",
        "      <th></th>\n",
        "      <th>user_id</th>\n",
        "      <th>song_id</th>\n",
        "      <th>play_count</th>\n",
        "    </tr>\n",
        "  </thead>\n",
        "  <tbody>\n",
        "    <tr>\n",
        "      <th>0</th>\n",
        "      <td> b80344d063b5ccb3212f76538f3d9e43d87dca9e</td>\n",
        "      <td> SOAKIMP12A8C130995</td>\n",
        "      <td>  1</td>\n",
        "    </tr>\n",
        "    <tr>\n",
        "      <th>1</th>\n",
        "      <td> b80344d063b5ccb3212f76538f3d9e43d87dca9e</td>\n",
        "      <td> SOAPDEY12A81C210A9</td>\n",
        "      <td>  1</td>\n",
        "    </tr>\n",
        "    <tr>\n",
        "      <th>2</th>\n",
        "      <td> b80344d063b5ccb3212f76538f3d9e43d87dca9e</td>\n",
        "      <td> SOBBMDR12A8C13253B</td>\n",
        "      <td>  6</td>\n",
        "    </tr>\n",
        "    <tr>\n",
        "      <th>3</th>\n",
        "      <td> b80344d063b5ccb3212f76538f3d9e43d87dca9e</td>\n",
        "      <td> SOBFNSP12AF72A0E22</td>\n",
        "      <td> 10</td>\n",
        "    </tr>\n",
        "    <tr>\n",
        "      <th>4</th>\n",
        "      <td> b80344d063b5ccb3212f76538f3d9e43d87dca9e</td>\n",
        "      <td> SOBFOVM12A58A7D494</td>\n",
        "      <td>  6</td>\n",
        "    </tr>\n",
        "  </tbody>\n",
        "</table>\n",
        "<p>5 rows \u00d7 3 columns</p>\n",
        "</div>"
       ],
       "metadata": {},
       "output_type": "pyout",
       "prompt_number": 274,
       "text": [
        "                                    user_id             song_id  play_count\n",
        "0  b80344d063b5ccb3212f76538f3d9e43d87dca9e  SOAKIMP12A8C130995           1\n",
        "1  b80344d063b5ccb3212f76538f3d9e43d87dca9e  SOAPDEY12A81C210A9           1\n",
        "2  b80344d063b5ccb3212f76538f3d9e43d87dca9e  SOBBMDR12A8C13253B           6\n",
        "3  b80344d063b5ccb3212f76538f3d9e43d87dca9e  SOBFNSP12AF72A0E22          10\n",
        "4  b80344d063b5ccb3212f76538f3d9e43d87dca9e  SOBFOVM12A58A7D494           6\n",
        "\n",
        "[5 rows x 3 columns]"
       ]
      }
     ],
     "prompt_number": 274
    },
    {
     "cell_type": "code",
     "collapsed": true,
     "input": [
      "smalldf = data"
     ],
     "language": "python",
     "metadata": {},
     "outputs": [],
     "prompt_number": 275
    },
    {
     "cell_type": "markdown",
     "metadata": {},
     "source": [
      "In the next several steps, we add calculate how many unique songs each user has listened to and how many unique users have listened to each song. These data are important to understand the user-user, song-song, and user-song relationships in our data set in order for us to build our recommender system. We added columns containing these data to our dataframe."
     ]
    },
    {
     "cell_type": "code",
     "collapsed": true,
     "input": [
      "# to find out how many different songs listened to by each user\n",
      "# songs per user\n",
      "# spu = smalldf.groupby('user_id').song_id.count()\n",
      "\n"
     ],
     "language": "python",
     "metadata": {},
     "outputs": [],
     "prompt_number": 276
    },
    {
     "cell_type": "code",
     "collapsed": true,
     "input": [
      "# loop through full data set, match user_id to groupby subset, and make a list of spu\n",
      "'''\n",
      "spu_list = [] \n",
      "\n",
      "for uid in smalldf.user_id:\n",
      "    for n,gbid in enumerate(spu.index):\n",
      "        if uid == gbid:\n",
      "            spu_list.append(spu[n])\n",
      "            break\n",
      "        else:\n",
      "            continue\n",
      "\n",
      "'''            \n",
      "            \n",
      "        \n",
      "    "
     ],
     "language": "python",
     "metadata": {},
     "outputs": [
      {
       "metadata": {},
       "output_type": "pyout",
       "prompt_number": 277,
       "text": [
        "'\\nspu_list = [] \\n\\nfor uid in smalldf.user_id:\\n    for n,gbid in enumerate(spu.index):\\n        if uid == gbid:\\n            spu_list.append(spu[n])\\n            break\\n        else:\\n            continue\\n\\n'"
       ]
      }
     ],
     "prompt_number": 277
    },
    {
     "cell_type": "code",
     "collapsed": true,
     "input": [
      "# how many unique users have listened to one song ups \"users per song\"\n",
      "'''\n",
      "ups = smalldf.groupby('song_id').user_id.count()\n",
      "\n",
      "ups_list = [] \n",
      "\n",
      "for uid in smalldf.song_id:\n",
      "    for n,gbid in enumerate(ups.index):\n",
      "        if uid == gbid:\n",
      "            ups_list.append(ups[n])\n",
      "            break\n",
      "        else:\n",
      "            continue\n",
      "'''"
     ],
     "language": "python",
     "metadata": {},
     "outputs": [
      {
       "metadata": {},
       "output_type": "pyout",
       "prompt_number": 278,
       "text": [
        "\"\\nups = smalldf.groupby('song_id').user_id.count()\\n\\nups_list = [] \\n\\nfor uid in smalldf.song_id:\\n    for n,gbid in enumerate(ups.index):\\n        if uid == gbid:\\n            ups_list.append(ups[n])\\n            break\\n        else:\\n            continue\\n\""
       ]
      }
     ],
     "prompt_number": 278
    },
    {
     "cell_type": "code",
     "collapsed": true,
     "input": [
      "# assert(len(spu_list) == len(ups_list))"
     ],
     "language": "python",
     "metadata": {},
     "outputs": [],
     "prompt_number": 279
    },
    {
     "cell_type": "code",
     "collapsed": true,
     "input": [
      "# add columns to dataframe\n",
      "'''\n",
      "smalldf['songs_per_user'] = spu_list\n",
      "smalldf['users_per_song'] = ups_list\n",
      "smalldf.head(10)\n",
      "'''"
     ],
     "language": "python",
     "metadata": {},
     "outputs": [
      {
       "metadata": {},
       "output_type": "pyout",
       "prompt_number": 280,
       "text": [
        "\"\\nsmalldf['songs_per_user'] = spu_list\\nsmalldf['users_per_song'] = ups_list\\nsmalldf.head(10)\\n\""
       ]
      }
     ],
     "prompt_number": 280
    },
    {
     "cell_type": "code",
     "collapsed": true,
     "input": [
      "# smalldf = data[(data.songs_per_user > 10) & (data.users_per_song > 10)]"
     ],
     "language": "python",
     "metadata": {},
     "outputs": [],
     "prompt_number": 281
    },
    {
     "cell_type": "code",
     "collapsed": false,
     "input": [
      "# find common listeners\n",
      "\"\"\"\n",
      "def n_com(df):\n",
      "    songs = df.song_id.unique()\n",
      "    common_listeners = []\n",
      "    for i, song1 in enumerate(songs):\n",
      "        for j, song2 in enumerate(songs):\n",
      "            if i < j:\n",
      "                song1_listeners = df[df.song_id == song1].user_id.unique()\n",
      "                song2_listeners = df[df.song_id == song2].user_id.unique()\n",
      "                common = set(song1_listeners).intersection(song2_listeners)\n",
      "                if len(common) > 1:\n",
      "                    common_listeners.append((song1, song2, common))\n",
      "                \n",
      "n_com(smalldf)\n",
      "\"\"\""
     ],
     "language": "python",
     "metadata": {},
     "outputs": [
      {
       "metadata": {},
       "output_type": "pyout",
       "prompt_number": 282,
       "text": [
        "'\\ndef n_com(df):\\n    songs = df.song_id.unique()\\n    common_listeners = []\\n    for i, song1 in enumerate(songs):\\n        for j, song2 in enumerate(songs):\\n            if i < j:\\n                song1_listeners = df[df.song_id == song1].user_id.unique()\\n                song2_listeners = df[df.song_id == song2].user_id.unique()\\n                common = set(song1_listeners).intersection(song2_listeners)\\n                if len(common) > 1:\\n                    common_listeners.append((song1, song2, common))\\n                \\nn_com(smalldf)\\n'"
       ]
      }
     ],
     "prompt_number": 282
    },
    {
     "cell_type": "markdown",
     "metadata": {},
     "source": [
      "Our final alteration to our dataframe was to calculate the average number of times each user plays a given song and to add this information to our current data."
     ]
    },
    {
     "cell_type": "code",
     "collapsed": false,
     "input": [
      "user_avg = smalldf.groupby('user_id').play_count.mean()"
     ],
     "language": "python",
     "metadata": {},
     "outputs": [],
     "prompt_number": 283
    },
    {
     "cell_type": "code",
     "collapsed": false,
     "input": [
      "# add user_avg column to df\n",
      "\n",
      "user_avgs = []\n",
      "\n",
      "for uid in smalldf.user_id:\n",
      "    for n,gbid in enumerate(user_avg.index):\n",
      "        if uid == gbid:\n",
      "            user_avgs.append(user_avg[n])\n",
      "            break\n",
      "        else:\n",
      "            continue"
     ],
     "language": "python",
     "metadata": {},
     "outputs": [],
     "prompt_number": 284
    },
    {
     "cell_type": "code",
     "collapsed": false,
     "input": [
      "smalldf['user_avg'] = user_avgs\n",
      "smalldf.head()"
     ],
     "language": "python",
     "metadata": {},
     "outputs": [
      {
       "html": [
        "<div style=\"max-height:1000px;max-width:1500px;overflow:auto;\">\n",
        "<table border=\"1\" class=\"dataframe\">\n",
        "  <thead>\n",
        "    <tr style=\"text-align: right;\">\n",
        "      <th></th>\n",
        "      <th>user_id</th>\n",
        "      <th>song_id</th>\n",
        "      <th>play_count</th>\n",
        "      <th>user_avg</th>\n",
        "    </tr>\n",
        "  </thead>\n",
        "  <tbody>\n",
        "    <tr>\n",
        "      <th>0</th>\n",
        "      <td> b80344d063b5ccb3212f76538f3d9e43d87dca9e</td>\n",
        "      <td> SOAKIMP12A8C130995</td>\n",
        "      <td>  1</td>\n",
        "      <td> 7.7</td>\n",
        "    </tr>\n",
        "    <tr>\n",
        "      <th>1</th>\n",
        "      <td> b80344d063b5ccb3212f76538f3d9e43d87dca9e</td>\n",
        "      <td> SOAPDEY12A81C210A9</td>\n",
        "      <td>  1</td>\n",
        "      <td> 7.7</td>\n",
        "    </tr>\n",
        "    <tr>\n",
        "      <th>2</th>\n",
        "      <td> b80344d063b5ccb3212f76538f3d9e43d87dca9e</td>\n",
        "      <td> SOBBMDR12A8C13253B</td>\n",
        "      <td>  6</td>\n",
        "      <td> 7.7</td>\n",
        "    </tr>\n",
        "    <tr>\n",
        "      <th>3</th>\n",
        "      <td> b80344d063b5ccb3212f76538f3d9e43d87dca9e</td>\n",
        "      <td> SOBFNSP12AF72A0E22</td>\n",
        "      <td> 10</td>\n",
        "      <td> 7.7</td>\n",
        "    </tr>\n",
        "    <tr>\n",
        "      <th>4</th>\n",
        "      <td> b80344d063b5ccb3212f76538f3d9e43d87dca9e</td>\n",
        "      <td> SOBFOVM12A58A7D494</td>\n",
        "      <td>  6</td>\n",
        "      <td> 7.7</td>\n",
        "    </tr>\n",
        "  </tbody>\n",
        "</table>\n",
        "<p>5 rows \u00d7 4 columns</p>\n",
        "</div>"
       ],
       "metadata": {},
       "output_type": "pyout",
       "prompt_number": 285,
       "text": [
        "                                    user_id             song_id  play_count  user_avg\n",
        "0  b80344d063b5ccb3212f76538f3d9e43d87dca9e  SOAKIMP12A8C130995           1       7.7\n",
        "1  b80344d063b5ccb3212f76538f3d9e43d87dca9e  SOAPDEY12A81C210A9           1       7.7\n",
        "2  b80344d063b5ccb3212f76538f3d9e43d87dca9e  SOBBMDR12A8C13253B           6       7.7\n",
        "3  b80344d063b5ccb3212f76538f3d9e43d87dca9e  SOBFNSP12AF72A0E22          10       7.7\n",
        "4  b80344d063b5ccb3212f76538f3d9e43d87dca9e  SOBFOVM12A58A7D494           6       7.7\n",
        "\n",
        "[5 rows x 4 columns]"
       ]
      }
     ],
     "prompt_number": 285
    },
    {
     "cell_type": "code",
     "collapsed": false,
     "input": [
      "song_avg = smalldf.groupby('song_id').play_count.mean()"
     ],
     "language": "python",
     "metadata": {},
     "outputs": [],
     "prompt_number": 286
    },
    {
     "cell_type": "code",
     "collapsed": false,
     "input": [
      "#add song_avg column to df\n",
      "song_avgs = []\n",
      "\n",
      "for sid in smalldf.song_id:\n",
      "    for n,gbid in enumerate(song_avg.index):\n",
      "        if sid == gbid:\n",
      "            song_avgs.append(song_avg[n])\n",
      "            break\n",
      "        else:\n",
      "            continue"
     ],
     "language": "python",
     "metadata": {},
     "outputs": [],
     "prompt_number": 287
    },
    {
     "cell_type": "code",
     "collapsed": false,
     "input": [
      "smalldf['song_avg'] = song_avgs\n",
      "smalldf.head()"
     ],
     "language": "python",
     "metadata": {},
     "outputs": [
      {
       "html": [
        "<div style=\"max-height:1000px;max-width:1500px;overflow:auto;\">\n",
        "<table border=\"1\" class=\"dataframe\">\n",
        "  <thead>\n",
        "    <tr style=\"text-align: right;\">\n",
        "      <th></th>\n",
        "      <th>user_id</th>\n",
        "      <th>song_id</th>\n",
        "      <th>play_count</th>\n",
        "      <th>user_avg</th>\n",
        "      <th>song_avg</th>\n",
        "    </tr>\n",
        "  </thead>\n",
        "  <tbody>\n",
        "    <tr>\n",
        "      <th>0</th>\n",
        "      <td> b80344d063b5ccb3212f76538f3d9e43d87dca9e</td>\n",
        "      <td> SOAKIMP12A8C130995</td>\n",
        "      <td>  1</td>\n",
        "      <td> 7.7</td>\n",
        "      <td> 3.571429</td>\n",
        "    </tr>\n",
        "    <tr>\n",
        "      <th>1</th>\n",
        "      <td> b80344d063b5ccb3212f76538f3d9e43d87dca9e</td>\n",
        "      <td> SOAPDEY12A81C210A9</td>\n",
        "      <td>  1</td>\n",
        "      <td> 7.7</td>\n",
        "      <td> 4.428571</td>\n",
        "    </tr>\n",
        "    <tr>\n",
        "      <th>2</th>\n",
        "      <td> b80344d063b5ccb3212f76538f3d9e43d87dca9e</td>\n",
        "      <td> SOBBMDR12A8C13253B</td>\n",
        "      <td>  6</td>\n",
        "      <td> 7.7</td>\n",
        "      <td> 4.666667</td>\n",
        "    </tr>\n",
        "    <tr>\n",
        "      <th>3</th>\n",
        "      <td> b80344d063b5ccb3212f76538f3d9e43d87dca9e</td>\n",
        "      <td> SOBFNSP12AF72A0E22</td>\n",
        "      <td> 10</td>\n",
        "      <td> 7.7</td>\n",
        "      <td> 5.500000</td>\n",
        "    </tr>\n",
        "    <tr>\n",
        "      <th>4</th>\n",
        "      <td> b80344d063b5ccb3212f76538f3d9e43d87dca9e</td>\n",
        "      <td> SOBFOVM12A58A7D494</td>\n",
        "      <td>  6</td>\n",
        "      <td> 7.7</td>\n",
        "      <td> 3.500000</td>\n",
        "    </tr>\n",
        "  </tbody>\n",
        "</table>\n",
        "<p>5 rows \u00d7 5 columns</p>\n",
        "</div>"
       ],
       "metadata": {},
       "output_type": "pyout",
       "prompt_number": 288,
       "text": [
        "                                    user_id             song_id  play_count  user_avg  song_avg\n",
        "0  b80344d063b5ccb3212f76538f3d9e43d87dca9e  SOAKIMP12A8C130995           1       7.7  3.571429\n",
        "1  b80344d063b5ccb3212f76538f3d9e43d87dca9e  SOAPDEY12A81C210A9           1       7.7  4.428571\n",
        "2  b80344d063b5ccb3212f76538f3d9e43d87dca9e  SOBBMDR12A8C13253B           6       7.7  4.666667\n",
        "3  b80344d063b5ccb3212f76538f3d9e43d87dca9e  SOBFNSP12AF72A0E22          10       7.7  5.500000\n",
        "4  b80344d063b5ccb3212f76538f3d9e43d87dca9e  SOBFOVM12A58A7D494           6       7.7  3.500000\n",
        "\n",
        "[5 rows x 5 columns]"
       ]
      }
     ],
     "prompt_number": 288
    },
    {
     "cell_type": "markdown",
     "metadata": {},
     "source": [
      "### Building A Similarities Database"
     ]
    },
    {
     "cell_type": "code",
     "collapsed": false,
     "input": [
      "\"\"\" make a dataframe that contains a list of the different play counts for all\n",
      "    users in the dataset who listened to one specific song \"\"\"\n",
      "\n",
      "def get_song_counts(song_id, df, users_set):\n",
      "    song_counts = df[(df.user_id.isin(users_set) & (df.song_id == song_id))]\n",
      "    song_counts = song_counts[song_counts.user_id.duplicated() == False]\n",
      "    return song_counts"
     ],
     "language": "python",
     "metadata": {},
     "outputs": [],
     "prompt_number": 289
    },
    {
     "cell_type": "code",
     "collapsed": false,
     "input": [
      "\"\"\"\n",
      "    Given two songs, find how similar they are by running the lists of their play counts\n",
      "    from the SAME users through a pearson correlation function\n",
      "\n",
      "\"\"\"\n",
      "\n",
      "def sim_funct(song1_counts, song2_counts, n_common):\n",
      "    if n_common == 0:\n",
      "        r = 0.\n",
      "    else:\n",
      "        diff1 = song1_counts['play_count'] - song1_counts['user_avg']\n",
      "        diff2 = song2_counts['play_count'] - song2_counts['user_avg']\n",
      "        r = pearsonr(diff1, diff2)[0]\n",
      "    return r\n",
      "    "
     ],
     "language": "python",
     "metadata": {},
     "outputs": [],
     "prompt_number": 290
    },
    {
     "cell_type": "code",
     "collapsed": false,
     "input": [
      "\"\"\"\n",
      "\n",
      "    Get the play counts of two songs who have both been listened to by the same user, \n",
      "    and run these lists through the function defined above\n",
      "    \n",
      "\"\"\"\n",
      "\n",
      "def song_sims(song1, song2, df, sim_funct):\n",
      "    song1_listeners = df[df.song_id == song1].user_id.unique()\n",
      "    song2_listeners = df[df.song_id == song2].user_id.unique()\n",
      "    common = set(song1_listeners).intersection(song2_listeners)\n",
      "    \n",
      "    n_common = len(common)\n",
      "    \n",
      "    song1_counts = get_song_counts(song1, df, common)\n",
      "    song2_counts = get_song_counts(song2, df, common)\n",
      "    \n",
      "    sim = sim_funct(song1_counts, song2_counts, n_common)\n",
      "    \n",
      "    if np.isnan(sim):\n",
      "        sim = 0.\n",
      "    \n",
      "    return sim, n_common\n",
      "\n",
      "        \n",
      "        "
     ],
     "language": "python",
     "metadata": {},
     "outputs": [],
     "prompt_number": 291
    },
    {
     "cell_type": "code",
     "collapsed": false,
     "input": [
      "test_songid1 = 'SOAKIMP12A8C130995'\n",
      "test_songid2 = 'SOAPDEY12A81C210A9'"
     ],
     "language": "python",
     "metadata": {},
     "outputs": [],
     "prompt_number": 292
    },
    {
     "cell_type": "code",
     "collapsed": false,
     "input": [
      "# test on two diff songs\n",
      "song_sims('SOAKIMP12A8C130995', 'SOAPDEY12A81C210A9', smalldf, sim_funct)\n"
     ],
     "language": "python",
     "metadata": {},
     "outputs": [
      {
       "metadata": {},
       "output_type": "pyout",
       "prompt_number": 293,
       "text": [
        "(0.94229961071270607, 6)"
       ]
      }
     ],
     "prompt_number": 293
    },
    {
     "cell_type": "code",
     "collapsed": false,
     "input": [
      "class DB:\n",
      "    \"data structure that contains similarities and common listeners between songs\"\n",
      "    \n",
      "    \"\"\"\n",
      "    adapted from outline provided by CS109 Staff \n",
      "    \"\"\"\n",
      "    \n",
      "    def __init__(self, df):\n",
      "        db = {}\n",
      "        self.df = df\n",
      "        self.uniquesongids = {v:k for (k,v) in enumerate(df.song_id.unique())}\n",
      "        keys = self.uniquesongids.keys()\n",
      "        l_keys = len(keys)\n",
      "        self.db_sim = np.zeros([l_keys, l_keys])\n",
      "        self.db_sup = np.zeros([l_keys, l_keys], dtype=np.int)\n",
      "        \n",
      "    def populate_by_calculating(self, sim_funct):\n",
      "        items = self.uniquesongids.items()\n",
      "        for s1, i1 in items:\n",
      "            for s2, i2 in items:\n",
      "                if i1 < i2:\n",
      "                    sim, nsup = song_sims(s1,s2, self.df, sim_funct)\n",
      "                    self.db_sim[i1][i2] = sim\n",
      "                    self.db_sim[i2][i1] = sim\n",
      "                    self.db_sup[i1][i2] = nsup\n",
      "                    self.db_sup[i2][i1] = nsup\n",
      "                elif i1==i2:\n",
      "                    nsup = self.df[self.df.song_id == s1].user_id.count()\n",
      "                    self.db_sim[i1][i1] = 1.\n",
      "                    self.db_sup[i1][i1] = nsup\n",
      "                \n",
      "    def get(self,s1,s2):\n",
      "        sim = self.db_sim[self.uniquesongids[s1]][self.uniquesongids[s2]]\n",
      "        nsup = self.db_sup[self.uniquesongids[s1]][self.uniquesongids[s2]]\n",
      "        return (sim, nsup)\n",
      "    \n",
      "            "
     ],
     "language": "python",
     "metadata": {},
     "outputs": [],
     "prompt_number": 332
    },
    {
     "cell_type": "code",
     "collapsed": false,
     "input": [
      "database = DB(smalldf)\n",
      "database.populate_by_calculating(sim_funct)"
     ],
     "language": "python",
     "metadata": {},
     "outputs": [],
     "prompt_number": 333
    },
    {
     "cell_type": "code",
     "collapsed": false,
     "input": [
      "database.get('SOAKIMP12A8C130995', 'SOAPDEY12A81C210A9')"
     ],
     "language": "python",
     "metadata": {},
     "outputs": [
      {
       "metadata": {},
       "output_type": "pyout",
       "prompt_number": 296,
       "text": [
        "(0.94229961071270607, 6)"
       ]
      }
     ],
     "prompt_number": 296
    },
    {
     "cell_type": "code",
     "collapsed": false,
     "input": [
      "\n",
      "# shrinks similarity by adjusting for how many of the songs have common listeners\n",
      "# can be adjusted based on how the dataset looks\n",
      "def reg_sim(sim, n_common, reg =3.):\n",
      "    ssim = (n_common*sim)/(n_common + reg)\n",
      "    return ssim"
     ],
     "language": "python",
     "metadata": {},
     "outputs": [],
     "prompt_number": 297
    },
    {
     "cell_type": "markdown",
     "metadata": {},
     "source": [
      "### Recommending"
     ]
    },
    {
     "cell_type": "code",
     "collapsed": false,
     "input": [
      " #Given a song_id, dataframe, and database, get a sorted list of the\n",
      " #k most similar songs from the entire database.\n",
      "\n",
      "def knearest(song_id, set_of_songs, dbase, k, reg):\n",
      "    result = []\n",
      "    for song in set_of_songs:\n",
      "        if not song == song_id:\n",
      "            tup = dbase.get(song_id, song)\n",
      "            new_sim = reg_sim(tup[0], tup[1], reg)\n",
      "            reg_tup = (song, new_sim, tup[1])\n",
      "            result.append(reg_tup)\n",
      "    \n",
      "    result = sorted(result, key = itemgetter(1))[-k:]\n",
      "    return result[0:k]\n",
      "    "
     ],
     "language": "python",
     "metadata": {},
     "outputs": [],
     "prompt_number": 298
    },
    {
     "cell_type": "code",
     "collapsed": false,
     "input": [
      "tops = knearest(test_songid1, smalldf.song_id.unique(), database, k=2, reg=3)\n",
      "                "
     ],
     "language": "python",
     "metadata": {},
     "outputs": [],
     "prompt_number": 299
    },
    {
     "cell_type": "code",
     "collapsed": false,
     "input": [
      "# Provides the song name given the song_id by accessing the Echonest API.\n",
      "# This also handles exceptions from songs that aren't matched with titles in the Echonest API,\n",
      "# since the API has been updated from the dataset we are using.\n",
      "\n",
      "def songfromid(songid):\n",
      "    try:\n",
      "        return song.Song(songid)\n",
      "    except IndexError:\n",
      "        return songid + \" (This song does not have a title in the Echonest API!)\"\n"
     ],
     "language": "python",
     "metadata": {},
     "outputs": [],
     "prompt_number": 300
    },
    {
     "cell_type": "code",
     "collapsed": false,
     "input": [
      "# provides artist name given a song object\n",
      "def artistfromsong(song_obj):\n",
      "    return json.dumps(song_obj.artist_name)[1:-1]"
     ],
     "language": "python",
     "metadata": {},
     "outputs": [],
     "prompt_number": 301
    },
    {
     "cell_type": "code",
     "collapsed": true,
     "input": [
      "print songfromid('SODJTHN12AF72A8FCD')"
     ],
     "language": "python",
     "metadata": {},
     "outputs": [
      {
       "output_type": "stream",
       "stream": "stdout",
       "text": [
        "The Best of Times\n"
       ]
      }
     ],
     "prompt_number": 302
    },
    {
     "cell_type": "code",
     "collapsed": false,
     "input": [
      "# Test a song that throws an exception\n",
      "\n",
      "print songfromid('SOAAROC12A6D4FA420')"
     ],
     "language": "python",
     "metadata": {},
     "outputs": [
      {
       "output_type": "stream",
       "stream": "stdout",
       "text": [
        "SOAAROC12A6D4FA420 (This song does not have a title in the Echonest API!)\n"
       ]
      }
     ],
     "prompt_number": 303
    },
    {
     "cell_type": "code",
     "collapsed": false,
     "input": [
      "\"\"\"\n",
      "     Finds the user's most listened to songs, find the nearest neighbors\n",
      "     of these songs, merge these lists while removing the duplicates and\n",
      "     the ones that the user has already listened to, and sort by the \n",
      "     song's average play counts.\n",
      "\"\"\"\n",
      "\n",
      "def get_user_top_songs(user_id, df, num_songs = 5):\n",
      "    #get the top 5 most played songs from a user\n",
      "    udf =df[df.user_id == user_id][['song_id','play_count']].sort(['play_count'], ascending=False).head(num_songs)\n",
      "    return udf"
     ],
     "language": "python",
     "metadata": {},
     "outputs": [],
     "prompt_number": 304
    },
    {
     "cell_type": "code",
     "collapsed": false,
     "input": [
      "test_user1 = '5a905f000fc1ff3df7ca807d57edb608863db05d'"
     ],
     "language": "python",
     "metadata": {},
     "outputs": [],
     "prompt_number": 305
    },
    {
     "cell_type": "code",
     "collapsed": false,
     "input": [
      "get_user_top_songs(test_user1, smalldf, 3)\n"
     ],
     "language": "python",
     "metadata": {},
     "outputs": [
      {
       "html": [
        "<div style=\"max-height:1000px;max-width:1500px;overflow:auto;\">\n",
        "<table border=\"1\" class=\"dataframe\">\n",
        "  <thead>\n",
        "    <tr style=\"text-align: right;\">\n",
        "      <th></th>\n",
        "      <th>song_id</th>\n",
        "      <th>play_count</th>\n",
        "    </tr>\n",
        "  </thead>\n",
        "  <tbody>\n",
        "    <tr>\n",
        "      <th>55</th>\n",
        "      <td> SOAMPRJ12A8AE45F38</td>\n",
        "      <td> 20</td>\n",
        "    </tr>\n",
        "    <tr>\n",
        "      <th>65</th>\n",
        "      <td> SODJTHN12AF72A8FCD</td>\n",
        "      <td> 16</td>\n",
        "    </tr>\n",
        "    <tr>\n",
        "      <th>58</th>\n",
        "      <td> SOAPIHX12AB0184CB1</td>\n",
        "      <td>  7</td>\n",
        "    </tr>\n",
        "  </tbody>\n",
        "</table>\n",
        "<p>3 rows \u00d7 2 columns</p>\n",
        "</div>"
       ],
       "metadata": {},
       "output_type": "pyout",
       "prompt_number": 306,
       "text": [
        "               song_id  play_count\n",
        "55  SOAMPRJ12A8AE45F38          20\n",
        "65  SODJTHN12AF72A8FCD          16\n",
        "58  SOAPIHX12AB0184CB1           7\n",
        "\n",
        "[3 rows x 2 columns]"
       ]
      }
     ],
     "prompt_number": 306
    },
    {
     "cell_type": "code",
     "collapsed": false,
     "input": [
      "songz = get_user_top_songs(test_user1, smalldf, 3)"
     ],
     "language": "python",
     "metadata": {},
     "outputs": [],
     "prompt_number": 307
    },
    {
     "cell_type": "code",
     "collapsed": false,
     "input": [
      "\"\"\"\n",
      "    Takes as arguments a userid, the n top choices for the user, the dataframe, k, \n",
      "    and a regularizer, and returns the top recommendations obtained from combining\n",
      "    the songs that are neighbors of each of the n choices, in the way described in\n",
      "    the previous paragraph.\n",
      "\"\"\"\n",
      "def get_top_recos_for_user(userid, df, dbase, n, k, reg):\n",
      "    \n",
      "    top_choiceDF=get_user_top_songs(userid, df, n)\n",
      "    k_near_lst=[]\n",
      "    for i,row in top_choiceDF.iterrows():\n",
      "        k_near=knearest(row['song_id'], df.song_id.unique(), dbase, k, reg)\n",
      "        k_near_ids=[x[0] for x in k_near]\n",
      "        k_near_lst.extend(k_near_ids)\n",
      "        \n",
      "    \n",
      "    #Gets rid of duplicates\n",
      "    k_near_lst=set(k_near_lst)\n",
      "    k_near_lst=list(k_near_lst)\n",
      "    \n",
      "    # Songs already listened to by user\n",
      "    played=df[df['user_id']==userid].song_id.tolist()\n",
      "    \n",
      "    # Gets rid of song ids already played\n",
      "    result=[]\n",
      "    for sid in k_near_lst:\n",
      "        if not sid in played:\n",
      "            tup=(sid, df[df['song_id']==sid].play_count.mean())\n",
      "            result.append(tup)\n",
      "            \n",
      "    result=sorted(result, key=itemgetter(1))\n",
      "    result.reverse()\n",
      "    return result\n",
      "    if n < len(result):\n",
      "        return result[0:n]\n",
      "    else:\n",
      "        return result\n",
      "    \n",
      "    "
     ],
     "language": "python",
     "metadata": {},
     "outputs": [],
     "prompt_number": 308
    },
    {
     "cell_type": "code",
     "collapsed": false,
     "input": [
      "\n",
      "toprecos = get_top_recos_for_user(test_user1, smalldf, database, n=3, k=3, reg=3.)\n",
      "for songid, play_avg in toprecos:\n",
      "    print songfromid(songid), \"| Average Play Count :\", play_avg\n"
     ],
     "language": "python",
     "metadata": {},
     "outputs": []
    },
    {
     "cell_type": "code",
     "collapsed": false,
     "input": [
      "toprecos"
     ],
     "language": "python",
     "metadata": {},
     "outputs": [
      {
       "metadata": {},
       "output_type": "pyout",
       "prompt_number": 310,
       "text": [
        "[('SOHFHEP12A8C135C0E', 10.0),\n",
        " ('SOGFUFC12A8C13F1E5', 6.0),\n",
        " ('SOBBMDR12A8C13253B', 4.666666666666667),\n",
        " ('SOFXZAW12A67ADC90E', 1.0)]"
       ]
      }
     ],
     "prompt_number": 310
    },
    {
     "cell_type": "code",
     "collapsed": false,
     "input": [
      "# finds the nearest k neighbors to a given song from the songs the user\n",
      "# already has listened to\n",
      "def knearest_amongst_userrated(song_id, user_id, df, dbase, k, reg):\n",
      "    dfuser=df[df['user_id']==user_id]\n",
      "    played =dfuser.song_id.unique()\n",
      "    return knearest(song_id, played, dbase, k, reg)\n"
     ],
     "language": "python",
     "metadata": {},
     "outputs": [],
     "prompt_number": 311
    },
    {
     "cell_type": "code",
     "collapsed": false,
     "input": [
      "tops2 = knearest_amongst_userrated(test_songid1,test_user1, smalldf, database, k=2, reg=3)\n"
     ],
     "language": "python",
     "metadata": {},
     "outputs": [],
     "prompt_number": 312
    },
    {
     "cell_type": "code",
     "collapsed": false,
     "input": [
      "tops2\n",
      "# print songfromid('SOBFOVM12A58A7D494')"
     ],
     "language": "python",
     "metadata": {},
     "outputs": [
      {
       "metadata": {},
       "output_type": "pyout",
       "prompt_number": 313,
       "text": [
        "[('SOPIEIJ12A6D4F8F81', 0.5, 3),\n",
        " ('SOAPDEY12A81C210A9', 0.62819974047513738, 6)]"
       ]
      }
     ],
     "prompt_number": 313
    },
    {
     "cell_type": "code",
     "collapsed": false,
     "input": [
      "# function that returns the predicted number of plays for a user and a song\n",
      "# using the formula for weighted average and collab filtering EDIT \n",
      "def pred_plays(df, dbase, song_id, user_id, k, reg):\n",
      "    \n",
      "    sk=knearest_amongst_userrated(song_id, user_id, df, dbase, k, reg)\n",
      "    knearest_sims=[x[1] for x in sk]\n",
      "    \n",
      "    yu_bar=df[df['user_id']==user_id].play_count.mean()\n",
      "    ym_bar=df[df['song_id']==song_id].play_count.mean()\n",
      "\n",
      "    y_bar=df.play_count.mean()\n",
      "    yum_baseline = y_bar + (yu_bar - y_bar) + (ym_bar - y_bar)\n",
      "\n",
      "    numerator=0.\n",
      "    \n",
      "    for tup in sk:  \n",
      "        \n",
      "        yj_bar=df[df['song_id']==tup[0]].play_count.mean()\n",
      "        \n",
      "        yuj_baseline=y_bar + (yu_bar - y_bar) + (yj_bar - y_bar)   \n",
      "        \n",
      "        a=df[df['user_id']==user_id]\n",
      "        yuj=float(a[a['song_id']==tup[0]].play_count)\n",
      "        numerator+= tup[1]*(yuj-yuj_baseline)\n",
      "    \n",
      "    denom=sum(knearest_sims)\n",
      "    if not denom==0:\n",
      "        return (yum_baseline + (numerator/sum(knearest_sims)))\n",
      "        \n",
      "    else:\n",
      "        return yum_baseline\n",
      "    "
     ],
     "language": "python",
     "metadata": {},
     "outputs": [],
     "prompt_number": 314
    },
    {
     "cell_type": "code",
     "collapsed": false,
     "input": [
      "pred_plays(smalldf, database, test_songid1, test_user1, 2, 3)"
     ],
     "language": "python",
     "metadata": {},
     "outputs": [
      {
       "metadata": {},
       "output_type": "pyout",
       "prompt_number": 315,
       "text": [
        "2.7759770494305087"
       ]
      }
     ],
     "prompt_number": 315
    },
    {
     "cell_type": "code",
     "collapsed": false,
     "input": [
      "#toprecos = get_top_recos_for_user(test_user1, smalldf, database, n=3, k=3, reg=3.)"
     ],
     "language": "python",
     "metadata": {},
     "outputs": [],
     "prompt_number": 316
    },
    {
     "cell_type": "code",
     "collapsed": false,
     "input": [
      "# Handles exception of when the artist name doesn't exist in the Echonest API\n",
      "def artistfromsong(song_obj):\n",
      "    try:\n",
      "        return song.Song(songid).artist_name\n",
      "    except (AttributeError, IndexError):\n",
      "        return \"(This song does not have an artist name in the Echonest API!)\""
     ],
     "language": "python",
     "metadata": {},
     "outputs": [],
     "prompt_number": 329
    },
    {
     "cell_type": "code",
     "collapsed": false,
     "input": [
      "# print out information of the top n, number of recommendations for a particular user\n",
      "def print_pred_info(user_id, df, db, n=5, k=7,reg=3.):\n",
      "    toprecos = get_top_recos_for_user(user_id, df, db, n,k,reg)\n",
      "\n",
      "    for songid, play_avg in toprecos:\n",
      "        song_object = songfromid(songid)\n",
      "        artist_name = artistfromsong(song_object)\n",
      "        print song_object, \"|\", artist_name, \"| Predicted Play Counts \", pred_plays(smalldf, database, test_songid1, test_user1, 2, 3), \"|\", \"Average Plays\",  play_avg\n",
      "\n",
      "        \n",
      "        "
     ],
     "language": "python",
     "metadata": {},
     "outputs": []
    },
    {
     "cell_type": "code",
     "collapsed": false,
     "input": [
      "print_pred_info(test_user1, smalldf, database, n=3, k=3, reg =3.)"
     ],
     "language": "python",
     "metadata": {},
     "outputs": []
    },
    {
     "cell_type": "code",
     "collapsed": false,
     "input": [
      "# testing\n",
      "# Get predictions from songs that the user has already listened to, so that we can compare \n",
      "# our predictions with their actual play counts in the original dataset. \n",
      "def get_other_preds(song_id, user_id, df):\n",
      "    \"get a user's play count on each song and the average play count and the songs average play count\"\n",
      "    choice = df[(df.song_id == song_id) & (df.user_id == user_id)]\n",
      "    users_playcount = choice.play_count.values[0]\n",
      "    average_playcount = choice.song_avg.values[0]\n",
      "    return users_playcount, average_playcount"
     ],
     "language": "python",
     "metadata": {},
     "outputs": [],
     "prompt_number": 320
    },
    {
     "cell_type": "code",
     "collapsed": false,
     "input": [
      "print \"for user\", test_user1, 'avg', smalldf[smalldf.user_id == test_user1].play_count.mean() \n",
      "for songid in songz.song_id:\n",
      "    title = songfromid(songid)\n",
      "    print \"----------------------------------\"\n",
      "    print \"Song: \" \n",
      "    print title\n",
      "    print \"Predicted Play Count:\",pred_plays(smalldf, database, songid, test_user1, k=5, reg=3.) \n",
      "    u,a=get_other_preds(songid, test_user1, smalldf)\n",
      "    print \"Actual User Play Count:\",u,\"| Song's Avg Play Count\",a\n",
      "    "
     ],
     "language": "python",
     "metadata": {},
     "outputs": [
      {
       "output_type": "stream",
       "stream": "stdout",
       "text": [
        "for user 5a905f000fc1ff3df7ca807d57edb608863db05d avg 3.90909090909\n",
        "----------------------------------"
       ]
      },
      {
       "output_type": "stream",
       "stream": "stdout",
       "text": [
        "\n",
        "Song: \n",
        "Rorol\n",
        "Predicted Play Count: 9.73390842734\n",
        "Actual User Play Count: 20 | Song's Avg Play Count 11.0\n",
        "----------------------------------"
       ]
      },
      {
       "output_type": "stream",
       "stream": "stdout",
       "text": [
        "\n",
        "Song: \n",
        "The Best of Times\n",
        "Predicted Play Count: 5.99997499547\n",
        "Actual User Play Count: 16 | Song's Avg Play Count 6.0\n",
        "----------------------------------"
       ]
      },
      {
       "output_type": "stream",
       "stream": "stdout",
       "text": [
        "\n",
        "Song: \n",
        "Auto-Dub\n",
        "Predicted Play Count: 5.73390842734\n",
        "Actual User Play Count: 7 | Song's Avg Play Count 7.0\n"
       ]
      }
     ],
     "prompt_number": 336
    }
   ],
   "metadata": {}
  }
 ]
}